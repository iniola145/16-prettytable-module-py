{
  "nbformat": 4,
  "nbformat_minor": 0,
  "metadata": {
    "colab": {
      "provenance": [],
      "gpuType": "T4",
      "authorship_tag": "ABX9TyPnNTlq4yVlo0SgCr6LSqcT",
      "include_colab_link": true
    },
    "kernelspec": {
      "name": "python3",
      "display_name": "Python 3"
    },
    "language_info": {
      "name": "python"
    },
    "accelerator": "GPU"
  },
  "cells": [
    {
      "cell_type": "markdown",
      "metadata": {
        "id": "view-in-github",
        "colab_type": "text"
      },
      "source": [
        "<a href=\"https://colab.research.google.com/github/iniola145/16-prettytable-module-py/blob/main/Cassava_Pytorch.ipynb\" target=\"_parent\"><img src=\"https://colab.research.google.com/assets/colab-badge.svg\" alt=\"Open In Colab\"/></a>"
      ]
    },
    {
      "cell_type": "code",
      "execution_count": 1,
      "metadata": {
        "colab": {
          "base_uri": "https://localhost:8080/",
          "height": 350
        },
        "id": "iphDkBLl5QXJ",
        "outputId": "3166ce7c-9226-4bba-84bd-1c401e35ee6e"
      },
      "outputs": [
        {
          "output_type": "display_data",
          "data": {
            "text/plain": [
              "<IPython.core.display.HTML object>"
            ],
            "text/html": [
              "\n",
              "     <input type=\"file\" id=\"files-cafc18f6-1c0f-4443-9db1-e24445b569b9\" name=\"files[]\" multiple disabled\n",
              "        style=\"border:none\" />\n",
              "     <output id=\"result-cafc18f6-1c0f-4443-9db1-e24445b569b9\">\n",
              "      Upload widget is only available when the cell has been executed in the\n",
              "      current browser session. Please rerun this cell to enable.\n",
              "      </output>\n",
              "      <script>// Copyright 2017 Google LLC\n",
              "//\n",
              "// Licensed under the Apache License, Version 2.0 (the \"License\");\n",
              "// you may not use this file except in compliance with the License.\n",
              "// You may obtain a copy of the License at\n",
              "//\n",
              "//      http://www.apache.org/licenses/LICENSE-2.0\n",
              "//\n",
              "// Unless required by applicable law or agreed to in writing, software\n",
              "// distributed under the License is distributed on an \"AS IS\" BASIS,\n",
              "// WITHOUT WARRANTIES OR CONDITIONS OF ANY KIND, either express or implied.\n",
              "// See the License for the specific language governing permissions and\n",
              "// limitations under the License.\n",
              "\n",
              "/**\n",
              " * @fileoverview Helpers for google.colab Python module.\n",
              " */\n",
              "(function(scope) {\n",
              "function span(text, styleAttributes = {}) {\n",
              "  const element = document.createElement('span');\n",
              "  element.textContent = text;\n",
              "  for (const key of Object.keys(styleAttributes)) {\n",
              "    element.style[key] = styleAttributes[key];\n",
              "  }\n",
              "  return element;\n",
              "}\n",
              "\n",
              "// Max number of bytes which will be uploaded at a time.\n",
              "const MAX_PAYLOAD_SIZE = 100 * 1024;\n",
              "\n",
              "function _uploadFiles(inputId, outputId) {\n",
              "  const steps = uploadFilesStep(inputId, outputId);\n",
              "  const outputElement = document.getElementById(outputId);\n",
              "  // Cache steps on the outputElement to make it available for the next call\n",
              "  // to uploadFilesContinue from Python.\n",
              "  outputElement.steps = steps;\n",
              "\n",
              "  return _uploadFilesContinue(outputId);\n",
              "}\n",
              "\n",
              "// This is roughly an async generator (not supported in the browser yet),\n",
              "// where there are multiple asynchronous steps and the Python side is going\n",
              "// to poll for completion of each step.\n",
              "// This uses a Promise to block the python side on completion of each step,\n",
              "// then passes the result of the previous step as the input to the next step.\n",
              "function _uploadFilesContinue(outputId) {\n",
              "  const outputElement = document.getElementById(outputId);\n",
              "  const steps = outputElement.steps;\n",
              "\n",
              "  const next = steps.next(outputElement.lastPromiseValue);\n",
              "  return Promise.resolve(next.value.promise).then((value) => {\n",
              "    // Cache the last promise value to make it available to the next\n",
              "    // step of the generator.\n",
              "    outputElement.lastPromiseValue = value;\n",
              "    return next.value.response;\n",
              "  });\n",
              "}\n",
              "\n",
              "/**\n",
              " * Generator function which is called between each async step of the upload\n",
              " * process.\n",
              " * @param {string} inputId Element ID of the input file picker element.\n",
              " * @param {string} outputId Element ID of the output display.\n",
              " * @return {!Iterable<!Object>} Iterable of next steps.\n",
              " */\n",
              "function* uploadFilesStep(inputId, outputId) {\n",
              "  const inputElement = document.getElementById(inputId);\n",
              "  inputElement.disabled = false;\n",
              "\n",
              "  const outputElement = document.getElementById(outputId);\n",
              "  outputElement.innerHTML = '';\n",
              "\n",
              "  const pickedPromise = new Promise((resolve) => {\n",
              "    inputElement.addEventListener('change', (e) => {\n",
              "      resolve(e.target.files);\n",
              "    });\n",
              "  });\n",
              "\n",
              "  const cancel = document.createElement('button');\n",
              "  inputElement.parentElement.appendChild(cancel);\n",
              "  cancel.textContent = 'Cancel upload';\n",
              "  const cancelPromise = new Promise((resolve) => {\n",
              "    cancel.onclick = () => {\n",
              "      resolve(null);\n",
              "    };\n",
              "  });\n",
              "\n",
              "  // Wait for the user to pick the files.\n",
              "  const files = yield {\n",
              "    promise: Promise.race([pickedPromise, cancelPromise]),\n",
              "    response: {\n",
              "      action: 'starting',\n",
              "    }\n",
              "  };\n",
              "\n",
              "  cancel.remove();\n",
              "\n",
              "  // Disable the input element since further picks are not allowed.\n",
              "  inputElement.disabled = true;\n",
              "\n",
              "  if (!files) {\n",
              "    return {\n",
              "      response: {\n",
              "        action: 'complete',\n",
              "      }\n",
              "    };\n",
              "  }\n",
              "\n",
              "  for (const file of files) {\n",
              "    const li = document.createElement('li');\n",
              "    li.append(span(file.name, {fontWeight: 'bold'}));\n",
              "    li.append(span(\n",
              "        `(${file.type || 'n/a'}) - ${file.size} bytes, ` +\n",
              "        `last modified: ${\n",
              "            file.lastModifiedDate ? file.lastModifiedDate.toLocaleDateString() :\n",
              "                                    'n/a'} - `));\n",
              "    const percent = span('0% done');\n",
              "    li.appendChild(percent);\n",
              "\n",
              "    outputElement.appendChild(li);\n",
              "\n",
              "    const fileDataPromise = new Promise((resolve) => {\n",
              "      const reader = new FileReader();\n",
              "      reader.onload = (e) => {\n",
              "        resolve(e.target.result);\n",
              "      };\n",
              "      reader.readAsArrayBuffer(file);\n",
              "    });\n",
              "    // Wait for the data to be ready.\n",
              "    let fileData = yield {\n",
              "      promise: fileDataPromise,\n",
              "      response: {\n",
              "        action: 'continue',\n",
              "      }\n",
              "    };\n",
              "\n",
              "    // Use a chunked sending to avoid message size limits. See b/62115660.\n",
              "    let position = 0;\n",
              "    do {\n",
              "      const length = Math.min(fileData.byteLength - position, MAX_PAYLOAD_SIZE);\n",
              "      const chunk = new Uint8Array(fileData, position, length);\n",
              "      position += length;\n",
              "\n",
              "      const base64 = btoa(String.fromCharCode.apply(null, chunk));\n",
              "      yield {\n",
              "        response: {\n",
              "          action: 'append',\n",
              "          file: file.name,\n",
              "          data: base64,\n",
              "        },\n",
              "      };\n",
              "\n",
              "      let percentDone = fileData.byteLength === 0 ?\n",
              "          100 :\n",
              "          Math.round((position / fileData.byteLength) * 100);\n",
              "      percent.textContent = `${percentDone}% done`;\n",
              "\n",
              "    } while (position < fileData.byteLength);\n",
              "  }\n",
              "\n",
              "  // All done.\n",
              "  yield {\n",
              "    response: {\n",
              "      action: 'complete',\n",
              "    }\n",
              "  };\n",
              "}\n",
              "\n",
              "scope.google = scope.google || {};\n",
              "scope.google.colab = scope.google.colab || {};\n",
              "scope.google.colab._files = {\n",
              "  _uploadFiles,\n",
              "  _uploadFilesContinue,\n",
              "};\n",
              "})(self);\n",
              "</script> "
            ]
          },
          "metadata": {}
        },
        {
          "output_type": "stream",
          "name": "stdout",
          "text": [
            "Saving kaggle.json to kaggle.json\n",
            "Warning: Looks like you're using an outdated API Version, please consider updating (server 1.7.4.2 / client 1.6.17)\n",
            "Dataset URL: https://www.kaggle.com/datasets/mexwell/crop-diseases-classification\n",
            "License(s): other\n",
            "Downloading crop-diseases-classification.zip to /content\n",
            "100% 1.99G/2.00G [00:13<00:00, 222MB/s]\n",
            "100% 2.00G/2.00G [00:13<00:00, 163MB/s]\n",
            "replace Data/Data/label_num_to_disease_map.json? [y]es, [n]o, [A]ll, [N]one, [r]ename: y\n",
            "replace Data/Data/train.csv? [y]es, [n]o, [A]ll, [N]one, [r]ename: y\n",
            "replace Data/Data/train_images/157078263.jpg? [y]es, [n]o, [A]ll, [N]one, [r]ename: y\n",
            "replace Data/Data/train_images/1574893536.jpg? [y]es, [n]o, [A]ll, [N]one, [r]ename: y\n",
            "replace Data/Data/train_images/1575013487.jpg? [y]es, [n]o, [A]ll, [N]one, [r]ename: y\n",
            "replace Data/Data/train_images/1576606254.jpg? [y]es, [n]o, [A]ll, [N]one, [r]ename: y\n",
            "replace Data/Data/train_images/1579761476.jpg? [y]es, [n]o, [A]ll, [N]one, [r]ename: A\n",
            "Y\n",
            "y\n",
            "A y\n"
          ]
        }
      ],
      "source": [
        "# Install Kaggle API\n",
        "!pip install -q kaggle\n",
        "\n",
        "# Upload Kaggle API key (must be done manually)\n",
        "from google.colab import files\n",
        "files.upload()  # Upload kaggle.json\n",
        "\n",
        "# Move kaggle.json to the correct directory and set permissions\n",
        "!mkdir -p ~/.kaggle\n",
        "!mv kaggle.json ~/.kaggle/\n",
        "!chmod 600 ~/.kaggle/kaggle.json\n",
        "\n",
        "# Download Cassava dataset\n",
        "!kaggle datasets download -d mexwell/crop-diseases-classification\n",
        "!unzip -q crop-diseases-classification.zip -d Data/\n"
      ]
    },
    {
      "cell_type": "markdown",
      "source": [],
      "metadata": {
        "id": "1mGfacEL6-NA"
      }
    },
    {
      "cell_type": "code",
      "source": [
        "import os\n",
        "import pandas as pd\n",
        "from sklearn.model_selection import train_test_split\n",
        "\n",
        "# Set dataset paths\n",
        "csv_path = \"/content/Data/train.csv\"\n",
        "img_dir = \"/content/Data/train_images\"\n",
        "\n",
        "# Load CSV\n",
        "df = pd.read_csv(csv_path)\n",
        "\n",
        "# Remove missing images\n",
        "df[\"filepath\"] = df[\"image_id\"].apply(lambda x: os.path.join(img_dir, x))\n",
        "df = df[df[\"filepath\"].apply(os.path.exists)]  # Keep only existing files\n",
        "\n",
        "# Split into train & validation sets (80/20)\n",
        "train_df, val_df = train_test_split(df, test_size=0.2, stratify=df[\"label\"], random_state=42)\n",
        "\n",
        "print(f\"Total images after filtering: {len(df)}\")\n",
        "print(f\"Train size: {len(train_df)}, Validation size: {len(val_df)}\")\n"
      ],
      "metadata": {
        "colab": {
          "base_uri": "https://localhost:8080/"
        },
        "id": "N1T5TrgM6Msk",
        "outputId": "f44740e7-adf6-420b-e477-63c60e9475e0"
      },
      "execution_count": 4,
      "outputs": [
        {
          "output_type": "stream",
          "name": "stdout",
          "text": [
            "Total images after filtering: 17938\n",
            "Train size: 14350, Validation size: 3588\n"
          ]
        }
      ]
    },
    {
      "cell_type": "code",
      "source": [
        "import os\n",
        "\n",
        "# Check if the Data folder exists\n",
        "print(\"Data directory exists:\", os.path.exists(\"/content/Data/\"))\n",
        "\n",
        "# Check if train.csv exists\n",
        "print(\"train.csv exists:\", os.path.exists(\"/content/Data/train.csv\"))\n",
        "\n",
        "# List contents of Data folder\n",
        "!ls -l /content/Data/\n"
      ],
      "metadata": {
        "colab": {
          "base_uri": "https://localhost:8080/"
        },
        "id": "dEtnYb-T7imn",
        "outputId": "b5aa1007-6d30-436a-c47a-fb965da9306f"
      },
      "execution_count": 3,
      "outputs": [
        {
          "output_type": "stream",
          "name": "stdout",
          "text": [
            "Data directory exists: True\n",
            "train.csv exists: False\n",
            "total 4\n",
            "drwxr-xr-x 3 root root 4096 Mar 17 16:26 Data\n"
          ]
        }
      ]
    },
    {
      "cell_type": "code",
      "source": [
        "import os\n",
        "import pandas as pd\n",
        "import torch\n",
        "from sklearn.model_selection import train_test_split\n",
        "from torchvision import transforms\n",
        "from torch.utils.data import Dataset, DataLoader\n",
        "from PIL import Image\n",
        "\n",
        "# Set dataset path\n",
        "dataset_path = \"/content/Data\"\n",
        "csv_path = os.path.join(dataset_path, \"train.csv\")\n",
        "image_folder = os.path.join(dataset_path, \"train_images\")\n",
        "\n",
        "# Load CSV file\n",
        "df = pd.read_csv(csv_path)\n",
        "\n",
        "# Remove missing image paths\n",
        "df['image_path'] = df['image_id'].apply(lambda x: os.path.join(image_folder, x))\n",
        "df = df[df['image_path'].apply(os.path.exists)]  # Remove rows where image file doesn't exist\n",
        "\n",
        "print(f\"Total images after filtering: {len(df)}\")\n",
        "\n",
        "# Split dataset into train (80%) and validation (20%)\n",
        "train_df, val_df = train_test_split(df, test_size=0.2, stratify=df['label'], random_state=42)\n",
        "\n",
        "# Define transforms\n",
        "train_transforms = transforms.Compose([\n",
        "    transforms.Resize((224, 224)),\n",
        "    transforms.RandomHorizontalFlip(),\n",
        "    transforms.RandomRotation(10),\n",
        "    transforms.ToTensor(),\n",
        "    transforms.Normalize([0.485, 0.456, 0.406], [0.229, 0.224, 0.225])\n",
        "])\n",
        "\n",
        "val_transforms = transforms.Compose([\n",
        "    transforms.Resize((224, 224)),\n",
        "    transforms.ToTensor(),\n",
        "    transforms.Normalize([0.485, 0.456, 0.406], [0.229, 0.224, 0.225])\n",
        "])\n",
        "\n",
        "# Custom dataset class\n",
        "class CassavaDataset(Dataset):\n",
        "    def __init__(self, dataframe, transform):\n",
        "        self.dataframe = dataframe\n",
        "        self.transform = transform\n",
        "\n",
        "    def __len__(self):\n",
        "        return len(self.dataframe)\n",
        "\n",
        "    def __getitem__(self, idx):\n",
        "        img_path = self.dataframe.iloc[idx]['image_path']\n",
        "        label = self.dataframe.iloc[idx]['label']\n",
        "\n",
        "        image = Image.open(img_path).convert(\"RGB\")\n",
        "        image = self.transform(image)\n",
        "\n",
        "        return image, label\n",
        "\n",
        "# Create PyTorch Datasets\n",
        "train_dataset = CassavaDataset(train_df, train_transforms)\n",
        "val_dataset = CassavaDataset(val_df, val_transforms)\n",
        "\n",
        "# Adjust batch size based on GPU memory (reduce if Colab crashes)\n",
        "batch_size = 16  # Change to 8 if OOM occurs\n",
        "\n",
        "# DataLoaders\n",
        "train_loader = DataLoader(train_dataset, batch_size=batch_size, shuffle=True, num_workers=2, pin_memory=True)\n",
        "val_loader = DataLoader(val_dataset, batch_size=batch_size, shuffle=False, num_workers=2, pin_memory=True)\n",
        "\n",
        "print(\"Data preprocessing complete! 🚀\")\n"
      ],
      "metadata": {
        "colab": {
          "base_uri": "https://localhost:8080/"
        },
        "id": "WE-RRaG_77kF",
        "outputId": "7eecfc4a-3ad4-49d6-ab13-7d406793eb8d"
      },
      "execution_count": 16,
      "outputs": [
        {
          "output_type": "stream",
          "name": "stdout",
          "text": [
            "Total images after filtering: 17938\n",
            "Data preprocessing complete! 🚀\n"
          ]
        }
      ]
    },
    {
      "cell_type": "code",
      "source": [
        "import torch.nn as nn\n",
        "import torchvision.models as models\n",
        "\n",
        "# Feature extractor class\n",
        "class FeatureExtractor(nn.Module):\n",
        "    def __init__(self, backbone):\n",
        "        super(FeatureExtractor, self).__init__()\n",
        "        self.backbone = backbone\n",
        "        self.global_pool = nn.AdaptiveAvgPool2d((1, 1))  # Global average pooling\n",
        "\n",
        "    def forward(self, x):\n",
        "        x = self.backbone(x)\n",
        "        x = self.global_pool(x)  # Apply global average pooling\n",
        "        x = torch.flatten(x, 1)  # Flatten into a single vector\n",
        "        return x\n",
        "\n",
        "# Load EfficientNetV2-S (pretrained)\n",
        "efficientnet = models.efficientnet_v2_s(weights=\"IMAGENET1K_V1\")\n",
        "efficientnet_features = efficientnet.features  # Extract feature layers\n",
        "\n",
        "# Load CropNet (Replace with real CropNet model)\n",
        "cropnet = models.mobilenet_v2(weights=\"IMAGENET1K_V1\")  # Placeholder for CropNet\n",
        "cropnet_features = cropnet.features  # Extract feature layers\n",
        "\n",
        "# Define feature extraction modules\n",
        "efficientnet_extractor = FeatureExtractor(efficientnet_features)\n",
        "cropnet_extractor = FeatureExtractor(cropnet_features)\n",
        "\n",
        "# Define Cassava Classifier\n",
        "class CassavaClassifier(nn.Module):\n",
        "    def __init__(self):\n",
        "        super(CassavaClassifier, self).__init__()\n",
        "        self.efficientnet = efficientnet_extractor\n",
        "        self.cropnet = cropnet_extractor\n",
        "\n",
        "        # Check feature output size\n",
        "        test_input = torch.randn(1, 3, 224, 224)  # Fake input for testing\n",
        "        with torch.no_grad():\n",
        "            feat1_size = self.efficientnet(test_input).shape[1]\n",
        "            feat2_size = self.cropnet(test_input).shape[1]\n",
        "\n",
        "        # Fully connected classifier\n",
        "        self.fc = nn.Sequential(\n",
        "            nn.Linear(feat1_size + feat2_size, 512),  # Match correct feature sizes\n",
        "            nn.ReLU(),\n",
        "            nn.Dropout(0.3),\n",
        "            nn.Linear(512, 5)  # 5 classes for Cassava disease\n",
        "        )\n",
        "\n",
        "    def forward(self, x):\n",
        "        feat1 = self.efficientnet(x)\n",
        "        feat2 = self.cropnet(x)\n",
        "        fused_features = torch.cat((feat1, feat2), dim=1)  # Concatenate features\n",
        "        return self.fc(fused_features)\n",
        "\n",
        "# Move model to GPU\n",
        "device = torch.device(\"cuda\" if torch.cuda.is_available() else \"cpu\")\n",
        "model = CassavaClassifier().to(device)\n",
        "\n",
        "print(\"✅ Model fixed and initialized successfully!\")\n"
      ],
      "metadata": {
        "colab": {
          "base_uri": "https://localhost:8080/"
        },
        "id": "pYHSrqfe8Htj",
        "outputId": "a14a214f-a483-41ca-f2b3-81dd5a1a0bc5"
      },
      "execution_count": 21,
      "outputs": [
        {
          "output_type": "stream",
          "name": "stdout",
          "text": [
            "✅ Model fixed and initialized successfully!\n"
          ]
        }
      ]
    },
    {
      "cell_type": "code",
      "source": [
        "import torch.optim as optim\n",
        "\n",
        "# Define loss function & optimizer\n",
        "criterion = nn.CrossEntropyLoss()\n",
        "optimizer = optim.AdamW(model.parameters(), lr=1e-4, weight_decay=1e-4)\n",
        "\n",
        "# Mixed Precision Training (AMP)\n",
        "scaler = torch.cuda.amp.GradScaler()\n",
        "\n",
        "print(\"Optimizer and AMP setup complete! 🚀\")\n"
      ],
      "metadata": {
        "colab": {
          "base_uri": "https://localhost:8080/"
        },
        "id": "eb6ZjFff8JSU",
        "outputId": "e59f9af4-99ca-45ab-faf2-387550f4de8b"
      },
      "execution_count": 22,
      "outputs": [
        {
          "output_type": "stream",
          "name": "stdout",
          "text": [
            "Optimizer and AMP setup complete! 🚀\n"
          ]
        },
        {
          "output_type": "stream",
          "name": "stderr",
          "text": [
            "<ipython-input-22-d94d5177d012>:8: FutureWarning: `torch.cuda.amp.GradScaler(args...)` is deprecated. Please use `torch.amp.GradScaler('cuda', args...)` instead.\n",
            "  scaler = torch.cuda.amp.GradScaler()\n"
          ]
        }
      ]
    },
    {
      "cell_type": "code",
      "source": [
        "def train_one_epoch(model, dataloader, optimizer, criterion, device):\n",
        "    model.train()\n",
        "    running_loss = 0.0\n",
        "\n",
        "    for images, labels in dataloader:\n",
        "        images, labels = images.to(device), labels.to(device)\n",
        "\n",
        "        optimizer.zero_grad()\n",
        "\n",
        "        # Mixed precision training\n",
        "        with torch.amp.autocast(device_type=\"cuda\"):\n",
        "            outputs = model(images)\n",
        "            loss = criterion(outputs, labels)\n",
        "\n",
        "        scaler.scale(loss).backward()\n",
        "        scaler.step(optimizer)\n",
        "        scaler.update()\n",
        "\n",
        "        running_loss += loss.item()\n",
        "\n",
        "    return running_loss / len(dataloader)\n",
        "\n",
        "def validate(model, dataloader, criterion, device):\n",
        "    model.eval()\n",
        "    correct = 0\n",
        "    total = 0\n",
        "    running_loss = 0.0\n",
        "\n",
        "    with torch.no_grad():\n",
        "        for images, labels in dataloader:\n",
        "            images, labels = images.to(device), labels.to(device)\n",
        "\n",
        "            with torch.amp.autocast(device_type=\"cuda\"):\n",
        "                outputs = model(images)\n",
        "                loss = criterion(outputs, labels)\n",
        "\n",
        "            running_loss += loss.item()\n",
        "            _, predicted = torch.max(outputs, 1)\n",
        "            correct += (predicted == labels).sum().item()\n",
        "            total += labels.size(0)\n",
        "\n",
        "    accuracy = 100 * correct / total\n",
        "    return running_loss / len(dataloader), accuracy\n",
        "\n",
        "print(\"Training & validation functions ready! 🚀\")\n"
      ],
      "metadata": {
        "colab": {
          "base_uri": "https://localhost:8080/"
        },
        "id": "uRhauW988crb",
        "outputId": "9973bc25-dbb2-4fd4-eeea-486802c49879"
      },
      "execution_count": 23,
      "outputs": [
        {
          "output_type": "stream",
          "name": "stdout",
          "text": [
            "Training & validation functions ready! 🚀\n"
          ]
        }
      ]
    },
    {
      "cell_type": "code",
      "source": [
        "num_epochs = 10\n",
        "best_val_acc = 0.0\n",
        "\n",
        "for epoch in range(num_epochs):\n",
        "    train_loss = train_one_epoch(model, train_loader, optimizer, criterion, device)\n",
        "    val_loss, val_acc = validate(model, val_loader, criterion, device)\n",
        "\n",
        "    print(f\"Epoch {epoch+1}: Train Loss: {train_loss:.4f}, Val Acc: {val_acc:.2f}%\")\n",
        "\n",
        "    # Save the best model\n",
        "    if val_acc > best_val_acc:\n",
        "        best_val_acc = val_acc\n",
        "        torch.save(model.state_dict(), \"best_cassava_model.pth\")\n",
        "        print(\"✅ Best model saved!\")\n",
        "\n",
        "print(\"Training complete! 🚀\")\n"
      ],
      "metadata": {
        "colab": {
          "base_uri": "https://localhost:8080/"
        },
        "id": "kna2gevP8gu_",
        "outputId": "b92f2000-6c9b-437b-8940-3180708108d9"
      },
      "execution_count": 24,
      "outputs": [
        {
          "output_type": "stream",
          "name": "stdout",
          "text": [
            "Epoch 1: Train Loss: 0.6359, Val Acc: 83.72%\n",
            "✅ Best model saved!\n",
            "Epoch 2: Train Loss: 0.4625, Val Acc: 85.12%\n",
            "✅ Best model saved!\n",
            "Epoch 3: Train Loss: 0.3958, Val Acc: 84.56%\n",
            "Epoch 4: Train Loss: 0.3364, Val Acc: 85.17%\n",
            "✅ Best model saved!\n",
            "Epoch 5: Train Loss: 0.2774, Val Acc: 84.84%\n",
            "Epoch 6: Train Loss: 0.2275, Val Acc: 84.73%\n",
            "Epoch 7: Train Loss: 0.1830, Val Acc: 83.42%\n",
            "Epoch 8: Train Loss: 0.1584, Val Acc: 84.31%\n",
            "Epoch 9: Train Loss: 0.1276, Val Acc: 84.06%\n",
            "Epoch 10: Train Loss: 0.1118, Val Acc: 84.95%\n",
            "Training complete! 🚀\n"
          ]
        }
      ]
    }
  ]
}